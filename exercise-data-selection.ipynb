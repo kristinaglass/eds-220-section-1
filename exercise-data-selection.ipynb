{
 "cells": [
  {
   "cell_type": "markdown",
   "id": "c03d020c-74b7-4341-9b18-b7e9102487a8",
   "metadata": {},
   "source": [
    "\n",
    "    What is this data about? \n",
    "    Is this data collected in-situ by the authors or is it a synthesis of multiple datasets?\n",
    "    During what time frame were the observations in the dataset collected?\n",
    "    Does this dataset come with an associated metadata file?\n",
    "    Does the dataset contain sensitive data?\n",
    "\n",
    "- This data is about occurance records of arthropod prey in the California drylands and associated climate and environment data\n",
    "- This data is a synthesis of multiple datasets\n",
    "- From 1945 to 2022\n",
    "- Yes\n",
    "- No\n",
    "\n",
    "https://knb.ecoinformatics.org/view/doi%3A10.5063%2FF1VM49RH\n",
    "\n",
    "Rachel King, Jenna Braun, Michael Westphal, & CJ Lortie. (2023). Compiled occurrence records for prey items of listed species found in California drylands with associated environmental data. Knowledge Network for Biocomplexity. doi:10.5063/F1VM49RH.\n",
    "Date of Access: 10/5/2023"
   ]
  }
 ],
 "metadata": {
  "kernelspec": {
   "display_name": "Anaconda 3 (Base)",
   "language": "python",
   "name": "base"
  },
  "language_info": {
   "codemirror_mode": {
    "name": "ipython",
    "version": 3
   },
   "file_extension": ".py",
   "mimetype": "text/x-python",
   "name": "python",
   "nbconvert_exporter": "python",
   "pygments_lexer": "ipython3",
   "version": "3.9.13"
  }
 },
 "nbformat": 4,
 "nbformat_minor": 5
}
